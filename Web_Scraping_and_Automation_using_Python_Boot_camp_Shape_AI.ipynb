{
  "nbformat": 4,
  "nbformat_minor": 0,
  "metadata": {
    "colab": {
      "name": "Web Scraping and Automation using Python Boot camp Shape AI.ipynb",
      "provenance": [],
      "collapsed_sections": [],
      "authorship_tag": "ABX9TyMryp4em3ASRn4mlxjH+kmM",
      "include_colab_link": true
    },
    "kernelspec": {
      "name": "python3",
      "display_name": "Python 3"
    },
    "language_info": {
      "name": "python"
    }
  },
  "cells": [
    {
      "cell_type": "markdown",
      "metadata": {
        "id": "view-in-github",
        "colab_type": "text"
      },
      "source": [
        "<a href=\"https://colab.research.google.com/github/Simi-Paxleal-J/WEB-SCRAPING-AND-AUTOMATION-BOOTCAMP-SHAPE-AI/blob/main/Web_Scraping_and_Automation_using_Python_Boot_camp_Shape_AI.ipynb\" target=\"_parent\"><img src=\"https://colab.research.google.com/assets/colab-badge.svg\" alt=\"Open In Colab\"/></a>"
      ]
    },
    {
      "cell_type": "markdown",
      "metadata": {
        "id": "X9g4Ui9J7E0P"
      },
      "source": [
        "Day 1 PYTHON INTRO\n",
        "Python:\n",
        "General Purpose - Interpreted - Object oriented - programming language\n",
        "Guido Van Rossum -> Tech Nerd (previously used- Got programming language without name - Python through \"Monty Python's Flying Circus\" show\n",
        "\n",
        "\n"
      ]
    },
    {
      "cell_type": "markdown",
      "metadata": {
        "id": "J1rIBv-TwuNy"
      },
      "source": [
        "Can we do with Python:\n",
        "\n",
        "*   Web Development\n",
        "*   Mobile Application (Native and Hybrid)\n",
        "*   Desktop App\n",
        "*   Game Development\n",
        "\n",
        "---\n",
        "\n",
        "*  Data Science\n",
        "*  Data Analysis\n",
        "*  Artificial Intelligence\n",
        "*  Machine Learning\n",
        "*  Deep learning\n",
        "\n",
        "---\n",
        "\n",
        "*   Cloud computing\n",
        "*   Web scraping\n",
        "*   Automation\n",
        "\n",
        "\n"
      ]
    },
    {
      "cell_type": "code",
      "metadata": {
        "colab": {
          "base_uri": "https://localhost:8080/"
        },
        "id": "YrEBXvYpXZ7p",
        "outputId": "322e26e6-c747-47ea-ca7c-ee5e2945cbfa"
      },
      "source": [
        "a=10;\n",
        "print(a);"
      ],
      "execution_count": 2,
      "outputs": [
        {
          "output_type": "stream",
          "name": "stdout",
          "text": [
            "10\n"
          ]
        }
      ]
    },
    {
      "cell_type": "code",
      "metadata": {
        "colab": {
          "base_uri": "https://localhost:8080/"
        },
        "id": "2Tu5CeQnYYCm",
        "outputId": "668e5a65-48ca-4ee0-a058-4357bc22e65e"
      },
      "source": [
        "print(\"Hello world\")"
      ],
      "execution_count": 3,
      "outputs": [
        {
          "output_type": "stream",
          "name": "stdout",
          "text": [
            "Hello world\n"
          ]
        }
      ]
    },
    {
      "cell_type": "code",
      "metadata": {
        "colab": {
          "base_uri": "https://localhost:8080/"
        },
        "id": "peHPfzmRYgkL",
        "outputId": "3fa25b3a-97f7-4e5e-f7de-11808e719d88"
      },
      "source": [
        "print(\"98\")"
      ],
      "execution_count": 4,
      "outputs": [
        {
          "output_type": "stream",
          "name": "stdout",
          "text": [
            "98\n"
          ]
        }
      ]
    },
    {
      "cell_type": "code",
      "metadata": {
        "colab": {
          "base_uri": "https://localhost:8080/"
        },
        "id": "6rITcJv7YjZs",
        "outputId": "369927f6-ebf5-4c41-c7be-8270516a656b"
      },
      "source": [
        "print(98)"
      ],
      "execution_count": 5,
      "outputs": [
        {
          "output_type": "stream",
          "name": "stdout",
          "text": [
            "98\n"
          ]
        }
      ]
    },
    {
      "cell_type": "code",
      "metadata": {
        "colab": {
          "base_uri": "https://localhost:8080/"
        },
        "id": "OfWtfEuuY8Uz",
        "outputId": "3fd93682-bac9-4739-91dd-aa1378fd79d8"
      },
      "source": [
        "type(98)"
      ],
      "execution_count": 6,
      "outputs": [
        {
          "output_type": "execute_result",
          "data": {
            "text/plain": [
              "int"
            ]
          },
          "metadata": {},
          "execution_count": 6
        }
      ]
    },
    {
      "cell_type": "code",
      "metadata": {
        "colab": {
          "base_uri": "https://localhost:8080/"
        },
        "id": "d-IXFUtIZAHP",
        "outputId": "3332b18d-c971-4753-c896-704fe3da7028"
      },
      "source": [
        "type(\"98\")"
      ],
      "execution_count": 7,
      "outputs": [
        {
          "output_type": "execute_result",
          "data": {
            "text/plain": [
              "str"
            ]
          },
          "metadata": {},
          "execution_count": 7
        }
      ]
    },
    {
      "cell_type": "code",
      "metadata": {
        "colab": {
          "base_uri": "https://localhost:8080/"
        },
        "id": "SndSYqjeZTpx",
        "outputId": "055f8bd8-251e-4499-b2ae-0b2bdeff0c6c"
      },
      "source": [
        "\"98\" is 98"
      ],
      "execution_count": 8,
      "outputs": [
        {
          "output_type": "execute_result",
          "data": {
            "text/plain": [
              "False"
            ]
          },
          "metadata": {},
          "execution_count": 8
        }
      ]
    },
    {
      "cell_type": "code",
      "metadata": {
        "colab": {
          "base_uri": "https://localhost:8080/"
        },
        "id": "J7pYgLklZpHi",
        "outputId": "09cbc340-d6e0-409b-d8f4-71a474199884"
      },
      "source": [
        "98.0 is 98"
      ],
      "execution_count": 9,
      "outputs": [
        {
          "output_type": "execute_result",
          "data": {
            "text/plain": [
              "False"
            ]
          },
          "metadata": {},
          "execution_count": 9
        }
      ]
    },
    {
      "cell_type": "code",
      "metadata": {
        "colab": {
          "base_uri": "https://localhost:8080/"
        },
        "id": "D8iKpv6lZzzU",
        "outputId": "a647f3cc-394e-4f37-bf40-ed401d72ad34"
      },
      "source": [
        "98 is 98"
      ],
      "execution_count": 10,
      "outputs": [
        {
          "output_type": "execute_result",
          "data": {
            "text/plain": [
              "True"
            ]
          },
          "metadata": {},
          "execution_count": 10
        }
      ]
    },
    {
      "cell_type": "code",
      "metadata": {
        "colab": {
          "base_uri": "https://localhost:8080/"
        },
        "id": "VAwVm_NeZ2o6",
        "outputId": "31924a88-f416-427b-8870-d5ccf67ed554"
      },
      "source": [
        "\"98\" == 98"
      ],
      "execution_count": 11,
      "outputs": [
        {
          "output_type": "execute_result",
          "data": {
            "text/plain": [
              "False"
            ]
          },
          "metadata": {},
          "execution_count": 11
        }
      ]
    },
    {
      "cell_type": "code",
      "metadata": {
        "colab": {
          "base_uri": "https://localhost:8080/"
        },
        "id": "Em1beEBHaXT_",
        "outputId": "f7e533ac-f539-41c5-c203-3bfe4462ab09"
      },
      "source": [
        "98.0 == 98"
      ],
      "execution_count": 12,
      "outputs": [
        {
          "output_type": "execute_result",
          "data": {
            "text/plain": [
              "True"
            ]
          },
          "metadata": {},
          "execution_count": 12
        }
      ]
    },
    {
      "cell_type": "code",
      "metadata": {
        "colab": {
          "base_uri": "https://localhost:8080/"
        },
        "id": "GVm9MRYb0IsP",
        "outputId": "57a4de96-f24a-4578-ebb7-2a8d140b1040"
      },
      "source": [
        "type(98.0)"
      ],
      "execution_count": 2,
      "outputs": [
        {
          "output_type": "execute_result",
          "data": {
            "text/plain": [
              "float"
            ]
          },
          "metadata": {},
          "execution_count": 2
        }
      ]
    },
    {
      "cell_type": "code",
      "metadata": {
        "colab": {
          "base_uri": "https://localhost:8080/"
        },
        "id": "xmpKDnNs0dMu",
        "outputId": "9dfde94f-68df-438c-d09c-0a83d65e5eea"
      },
      "source": [
        "type(\"98.0\")"
      ],
      "execution_count": 4,
      "outputs": [
        {
          "output_type": "execute_result",
          "data": {
            "text/plain": [
              "str"
            ]
          },
          "metadata": {},
          "execution_count": 4
        }
      ]
    },
    {
      "cell_type": "code",
      "metadata": {
        "colab": {
          "base_uri": "https://localhost:8080/"
        },
        "id": "FOV_Bpg40bTs",
        "outputId": "694eeb85-b464-4303-cfb4-059ce67602f0"
      },
      "source": [
        "type('98.o')"
      ],
      "execution_count": 5,
      "outputs": [
        {
          "output_type": "execute_result",
          "data": {
            "text/plain": [
              "str"
            ]
          },
          "metadata": {},
          "execution_count": 5
        }
      ]
    },
    {
      "cell_type": "code",
      "metadata": {
        "colab": {
          "base_uri": "https://localhost:8080/",
          "height": 128
        },
        "id": "ukJSPh2m0mT3",
        "outputId": "a66ee7fa-923b-4e13-d686-2f23ec69fcac"
      },
      "source": [
        "type(98.o)"
      ],
      "execution_count": 19,
      "outputs": [
        {
          "output_type": "error",
          "ename": "SyntaxError",
          "evalue": "ignored",
          "traceback": [
            "\u001b[0;36m  File \u001b[0;32m\"<ipython-input-19-4941a6bdc4a5>\"\u001b[0;36m, line \u001b[0;32m1\u001b[0m\n\u001b[0;31m    type(98.o)\u001b[0m\n\u001b[0m            ^\u001b[0m\n\u001b[0;31mSyntaxError\u001b[0m\u001b[0;31m:\u001b[0m invalid syntax\n"
          ]
        }
      ]
    },
    {
      "cell_type": "code",
      "metadata": {
        "colab": {
          "base_uri": "https://localhost:8080/",
          "height": 162
        },
        "id": "UY4A0Ksr0ruA",
        "outputId": "0f0ac3df-b311-4ca0-f95c-34ba8c023ca8"
      },
      "source": [
        "type(ljkj)"
      ],
      "execution_count": 18,
      "outputs": [
        {
          "output_type": "error",
          "ename": "NameError",
          "evalue": "ignored",
          "traceback": [
            "\u001b[0;31m---------------------------------------------------------------------------\u001b[0m",
            "\u001b[0;31mNameError\u001b[0m                                 Traceback (most recent call last)",
            "\u001b[0;32m<ipython-input-18-3f372514acde>\u001b[0m in \u001b[0;36m<module>\u001b[0;34m()\u001b[0m\n\u001b[0;32m----> 1\u001b[0;31m \u001b[0mtype\u001b[0m\u001b[0;34m(\u001b[0m\u001b[0mljkj\u001b[0m\u001b[0;34m)\u001b[0m\u001b[0;34m\u001b[0m\u001b[0;34m\u001b[0m\u001b[0m\n\u001b[0m",
            "\u001b[0;31mNameError\u001b[0m: name 'ljkj' is not defined"
          ]
        }
      ]
    },
    {
      "cell_type": "code",
      "metadata": {
        "colab": {
          "base_uri": "https://localhost:8080/"
        },
        "id": "ktMxtv7m0xK1",
        "outputId": "6d9db503-49cd-4aa3-a8c7-12d4e4e1b41d"
      },
      "source": [
        "type(\"klklj\")"
      ],
      "execution_count": 9,
      "outputs": [
        {
          "output_type": "execute_result",
          "data": {
            "text/plain": [
              "str"
            ]
          },
          "metadata": {},
          "execution_count": 9
        }
      ]
    },
    {
      "cell_type": "code",
      "metadata": {
        "id": "sIHHBDDMaZTH"
      },
      "source": [
        "var = \"This is my first day of Bootcamp\""
      ],
      "execution_count": 13,
      "outputs": []
    },
    {
      "cell_type": "code",
      "metadata": {
        "colab": {
          "base_uri": "https://localhost:8080/"
        },
        "id": "DVlunw3ea1yS",
        "outputId": "30809b08-a5b6-4a71-d212-7521d491e33c"
      },
      "source": [
        "print(var)"
      ],
      "execution_count": 14,
      "outputs": [
        {
          "output_type": "stream",
          "name": "stdout",
          "text": [
            "This is my first day of Bootcamp\n"
          ]
        }
      ]
    },
    {
      "cell_type": "code",
      "metadata": {
        "colab": {
          "base_uri": "https://localhost:8080/"
        },
        "id": "ZLsmy2QOtwkr",
        "outputId": "0d5c381d-27cf-447a-945f-c9f03e0bf13a"
      },
      "source": [
        "var = 98\n",
        "print (var)"
      ],
      "execution_count": 12,
      "outputs": [
        {
          "output_type": "stream",
          "name": "stdout",
          "text": [
            "98\n"
          ]
        }
      ]
    },
    {
      "cell_type": "markdown",
      "metadata": {
        "id": "BJ3k5d1EPKLO"
      },
      "source": [
        "= ->Assignment operator\n",
        "== ->Comparison operator"
      ]
    },
    {
      "cell_type": "code",
      "metadata": {
        "colab": {
          "base_uri": "https://localhost:8080/"
        },
        "id": "pVys8V1_Palt",
        "outputId": "e1bba944-b570-4d09-d50b-3884d200f6a8"
      },
      "source": [
        "98.0 == 78"
      ],
      "execution_count": 13,
      "outputs": [
        {
          "output_type": "execute_result",
          "data": {
            "text/plain": [
              "False"
            ]
          },
          "metadata": {},
          "execution_count": 13
        }
      ]
    },
    {
      "cell_type": "code",
      "metadata": {
        "colab": {
          "base_uri": "https://localhost:8080/"
        },
        "id": "mRq8u9tGPf54",
        "outputId": "d197d73b-654f-46a5-afbc-de981b94d9dd"
      },
      "source": [
        "98.0 == 98"
      ],
      "execution_count": 14,
      "outputs": [
        {
          "output_type": "execute_result",
          "data": {
            "text/plain": [
              "True"
            ]
          },
          "metadata": {},
          "execution_count": 14
        }
      ]
    },
    {
      "cell_type": "markdown",
      "metadata": {
        "id": "DH8VTuvEPk6K"
      },
      "source": [
        "DAY2"
      ]
    },
    {
      "cell_type": "code",
      "metadata": {
        "id": "UTQu-HLYPnyU"
      },
      "source": [
        ""
      ],
      "execution_count": null,
      "outputs": []
    },
    {
      "cell_type": "markdown",
      "metadata": {
        "id": "mi7JgfzqIVau"
      },
      "source": [
        "Day3\n",
        "# Conditional Statements"
      ]
    },
    {
      "cell_type": "code",
      "metadata": {
        "id": "7bFz7Qw7IYX3"
      },
      "source": [
        "amount = 5000"
      ],
      "execution_count": 16,
      "outputs": []
    },
    {
      "cell_type": "code",
      "metadata": {
        "colab": {
          "base_uri": "https://localhost:8080/"
        },
        "id": "u7Ks2vwZI6ek",
        "outputId": "c0b27bfd-56e3-42b8-ccb3-cc9955be05e3"
      },
      "source": [
        "if amount >= 1000:\n",
        "  print(\"RC Car\")\n",
        "elif amount >= 500 and amount <1000:\n",
        "  print(\"Bat\")\n",
        "elif amount < 500 and amount >10:\n",
        "  print(\"Beyblades\")\n",
        "else:\n",
        "  print(\"Cry\")"
      ],
      "execution_count": 17,
      "outputs": [
        {
          "output_type": "stream",
          "name": "stdout",
          "text": [
            "RC Car\n"
          ]
        }
      ]
    }
  ]
}